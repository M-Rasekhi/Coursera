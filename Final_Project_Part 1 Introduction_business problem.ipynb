{
 "cells": [
  {
   "cell_type": "markdown",
   "metadata": {},
   "source": [
    "## Market Research Project"
   ]
  },
  {
   "cell_type": "markdown",
   "metadata": {},
   "source": [
    "### This project involves analysing the cities within metroploitan Melbourne in Australia for our client to devide the cities into clusters in which we can determine which cities are better option for a new \"Gym/Fitness Centre\" business investment."
   ]
  },
  {
   "cell_type": "markdown",
   "metadata": {},
   "source": [
    "#### Gym and fitness is a very competitive business in Melbourne,\n",
    "A report by IBISWorld indicates that in 2019 there was 6426 Gym and fitness businesses in Australia with a market value of $3bn\n",
    "The following big franchise companies hold almost 70 percent of the market share:\n",
    "\n",
    "    Fitness and Lifestyle Group TopCo \n",
    "    pie_chart Anytime Australia \n",
    "    pie_chart F45 Aus Hold Co \n",
    "    pie_chart Lift Brands (Australia) \n",
    "    pie_chart Fernwood Women's Health Clubs\n",
    "    pie_chart Belgravia Health & Leisure Group\n",
    "    pie_chart CJC Operations Australia\n",
    "\n",
    "To enter this market it is important to analyze the market and find areas of the city where there are less competitors and also where the ratio of population to number of existing gyms is lower.\n",
    "\n",
    "it is also important to have the age distribution of the population, under 15 and over 60 people are less likely to join a fitness club where 18-45 year olds are probably more likely to join one.\n",
    "    \n",
    "    "
   ]
  },
  {
   "cell_type": "markdown",
   "metadata": {},
   "source": [
    "In our Analysis we will gather the following information:\n",
    "    \n",
    "    Name of local government areas (Cities) in metropolitan Melbourne\n",
    "    Approximate Coordinates of the center of the city\n",
    "    Area of the city\n",
    "    Population of the city\n",
    "    Density of the population\n",
    "    Number of fitness centers in a 4000m radius of city center.\n",
    "    \n",
    "    \n",
    "We will then clean and combine the data and get them ready to be analyzed by a machine learning algorithm to create clusters of cities with similar characteristics and then we will study each cluster to see which ones are more feasible for a new Gym and fitness business.\n",
    "    "
   ]
  },
  {
   "cell_type": "markdown",
   "metadata": {},
   "source": [
    "## Data"
   ]
  },
  {
   "cell_type": "markdown",
   "metadata": {},
   "source": [
    "We will gather the name, population , area, and density of the cities from this page in wikipedia:\n",
    "https://en.wikipedia.org/wiki/Local_government_areas_of_Victoria"
   ]
  },
  {
   "cell_type": "markdown",
   "metadata": {},
   "source": [
    "We will the use \"Google\" geolocation API to get the coordinates of these cities"
   ]
  },
  {
   "cell_type": "markdown",
   "metadata": {},
   "source": [
    "For age distribution data we will use Australian Bureau of statistics data provided at this address as excel file:\n",
    "https://www.ausstats.abs.gov.au/ausstats/subscriber.nsf/0/2658B9B8CC9269F7CA2584640014C2C4/$File/32350ds0003_lga_2018.xls"
   ]
  },
  {
   "cell_type": "markdown",
   "metadata": {},
   "source": [
    "We will use Foursquare API to get the information about \"Gym/Fitness center\" businesses in each city and add to our data table.\n"
   ]
  },
  {
   "cell_type": "markdown",
   "metadata": {},
   "source": [
    "## Analysis"
   ]
  },
  {
   "cell_type": "markdown",
   "metadata": {},
   "source": [
    "We will use either K-means or DBSCAN algorithems to categorize the cities."
   ]
  },
  {
   "cell_type": "code",
   "execution_count": null,
   "metadata": {},
   "outputs": [],
   "source": []
  }
 ],
 "metadata": {
  "kernelspec": {
   "display_name": "Python 3",
   "language": "python",
   "name": "python3"
  },
  "language_info": {
   "codemirror_mode": {
    "name": "ipython",
    "version": 3
   },
   "file_extension": ".py",
   "mimetype": "text/x-python",
   "name": "python",
   "nbconvert_exporter": "python",
   "pygments_lexer": "ipython3",
   "version": "3.7.1"
  }
 },
 "nbformat": 4,
 "nbformat_minor": 4
}
